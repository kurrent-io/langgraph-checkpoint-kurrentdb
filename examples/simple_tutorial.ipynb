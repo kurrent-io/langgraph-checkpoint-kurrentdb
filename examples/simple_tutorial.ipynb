{
 "cells": [
  {
   "cell_type": "code",
   "id": "initial_id",
   "metadata": {
    "collapsed": true,
    "ExecuteTime": {
     "end_time": "2025-04-23T07:25:40.763943Z",
     "start_time": "2025-04-23T07:25:34.897445Z"
    }
   },
   "source": [
    "from kurrentdbclient import KurrentDBClient\n",
    "from langgraph.graph import StateGraph\n",
    "from typing import Dict\n",
    "\n",
    "from langgraph_checkpoint_kurrentdb import KurrentDBSaver\n",
    "\n",
    "# wait a random amount of time\n",
    "import random\n",
    "import time\n",
    "def random_delay(func):\n",
    "    def wrapper(*args, **kwargs):\n",
    "        time.sleep(random.randint(1, 3))\n",
    "        return func(*args, **kwargs)  # Call the original function\n",
    "    return wrapper\n",
    "\n",
    "# Simulated weather function\n",
    "@random_delay\n",
    "def get_weather(location: str) -> Dict:\n",
    "    # Replace with real API call\n",
    "    weather_data = {\n",
    "        \"Luxembourg\": {\"temp_c\": 8, \"condition\": \"Rainy\"},\n",
    "        \"Barcelona\": {\"temp_c\": 22, \"condition\": \"Sunny\"},\n",
    "    }\n",
    "    return weather_data.get(location, {\"temp_c\": 15, \"condition\": \"Cloudy\"})\n",
    "\n",
    "# Decision logic\n",
    "@random_delay\n",
    "def clothing_advice(weather: Dict) -> str:\n",
    "    temp = weather[\"temp_c\"]\n",
    "    condition = weather[\"condition\"]\n",
    "\n",
    "    if temp < 10:\n",
    "        return f\"It's {condition} and cold. Wear a coat and bring an umbrella.\"\n",
    "    elif temp < 20:\n",
    "        return f\"It's {condition} and cool. Wear a light jacket.\"\n",
    "    else:\n",
    "        return f\"It's {condition} and warm. Shorts and t-shirt are fine.\"\n",
    "\n",
    "# Simulated logger\n",
    "@random_delay\n",
    "def log_advice(advice: str) -> str:\n",
    "    print(f\"[LOG] Advice: {advice}\")\n",
    "    return advice\n",
    "\n",
    "#Establish connection to KurrentDB\n",
    "#Sign up for Kurrent Cloud at https://www.kurrent.io/kurrent-cloud to get a connection string\n",
    "#Note that you will need a projections enabled cluster/single node\n",
    "kdbclient = KurrentDBClient(uri=\"Insert connection string here\")\n",
    "memory_saver = KurrentDBSaver(client=kdbclient)\n",
    "\n",
    "# Building the graph\n",
    "builder = StateGraph(str)  # Initial state is a location name (str)\n",
    "builder.add_node(\"get_weather\", get_weather)\n",
    "builder.add_node(\"clothing_advice\", clothing_advice)\n",
    "builder.add_node(\"log_advice\", log_advice)\n",
    "\n",
    "# Setting up flow\n",
    "builder.set_entry_point(\"get_weather\")\n",
    "builder.add_edge(\"get_weather\", \"clothing_advice\")\n",
    "builder.add_edge(\"clothing_advice\", \"log_advice\")\n",
    "builder.set_finish_point(\"log_advice\")\n",
    "\n",
    "config = {\"configurable\": {\"thread_id\": \"weather-graph\"}}\n",
    "# Compile and run\n",
    "graph = builder.compile(checkpointer=memory_saver)\n",
    "result = graph.invoke(\"Luxembourg\", config)\n",
    "\n",
    "# Export to OTEL\n",
    "# docker run --rm --name jaeger   -p 16686:16686   -p 4317:4317   -p 4318:4318   -p 5778:5778   -p 9411:9411   jaegertracing/jaeger:2.5.0\n",
    "# pip install opentelemetry-api\n",
    "# pip install opentelemetry-sdk\n",
    "# pip install opentelemetry-exporter-otlp\n",
    "from opentelemetry import trace\n",
    "from opentelemetry.sdk.trace.export import BatchSpanProcessor\n",
    "from opentelemetry.exporter.otlp.proto.grpc.trace_exporter import OTLPSpanExporter\n",
    "otlp_exporter = OTLPSpanExporter(endpoint=\"http://localhost:4317\", insecure=True)\n",
    "span_processor = BatchSpanProcessor(otlp_exporter)\n",
    "memory_saver.export_trace(thread_id=\"weather-graph\", span_processor=span_processor, trace=trace)"
   ],
   "outputs": [
    {
     "name": "stdout",
     "output_type": "stream",
     "text": [
      "[LOG] Advice: It's Rainy and cold. Wear a coat and bring an umbrella.\n"
     ]
    },
    {
     "name": "stderr",
     "output_type": "stream",
     "text": [
      "Overriding of current TracerProvider is not allowed\n"
     ]
    }
   ],
   "execution_count": 2
  },
  {
   "metadata": {},
   "cell_type": "code",
   "outputs": [],
   "execution_count": null,
   "source": "",
   "id": "f2f54f43a084f946"
  }
 ],
 "metadata": {
  "kernelspec": {
   "display_name": "Python 3",
   "language": "python",
   "name": "python3"
  },
  "language_info": {
   "codemirror_mode": {
    "name": "ipython",
    "version": 3
   },
   "file_extension": ".py",
   "mimetype": "text/x-python",
   "name": "python",
   "nbconvert_exporter": "python",
   "pygments_lexer": "ipython3",
   "version": "3.9.7"
  }
 },
 "nbformat": 4,
 "nbformat_minor": 5
}
